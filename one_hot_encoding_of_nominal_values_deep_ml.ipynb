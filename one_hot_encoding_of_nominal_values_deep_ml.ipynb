{
  "nbformat": 4,
  "nbformat_minor": 0,
  "metadata": {
    "colab": {
      "provenance": []
    },
    "kernelspec": {
      "name": "python3",
      "display_name": "Python 3"
    },
    "language_info": {
      "name": "python"
    }
  },
  "cells": [
    {
      "cell_type": "markdown",
      "source": [
        "write a python function to perform one-hot encoding of nominal values. The function should take in a 1D numpy array x of integer values and an optional integer n_col representing the number of columns for the one-hot encoded array. if n_col is not provided, it should be automatically determined from the input array."
      ],
      "metadata": {
        "id": "elWfWzCi-Xhd"
      }
    },
    {
      "cell_type": "code",
      "execution_count": null,
      "metadata": {
        "id": "OiRMNFCQ-RhW"
      },
      "outputs": [],
      "source": [
        "import numpy as np\n",
        "def to_categorical(x,n_col=None):\n",
        "  if not n_col:\n",
        "    n_col=np.amax(x)+1\n",
        "  #initialize a matrix of zeros with sahpe (number of samples, n_col)\n",
        "  one_hot=np.zeros((x.shape[0],n_col))\n",
        "  #set the appropriate elements to 1\n",
        "  one_hot[np.arange(x.shape[0]),x]=1 #np.arange(x.shape[0]) is the row indices of one_hot matrix and x is the column indices/ np.arange(x.shape[0]):Generates an array of indices corresponding to the rows of the one_hot array.\n",
        "  return one_hot\n"
      ]
    },
    {
      "cell_type": "code",
      "source": [
        "x=np.array([0,1,2,1,0])\n",
        "output=to_categorical(x)\n",
        "print(output)"
      ],
      "metadata": {
        "colab": {
          "base_uri": "https://localhost:8080/"
        },
        "id": "F8w7JcogABzG",
        "outputId": "d4f078ab-37e5-49c6-8c53-b2de3bb711bd"
      },
      "execution_count": null,
      "outputs": [
        {
          "output_type": "stream",
          "name": "stdout",
          "text": [
            "[[1. 0. 0.]\n",
            " [0. 1. 0.]\n",
            " [0. 0. 1.]\n",
            " [0. 1. 0.]\n",
            " [1. 0. 0.]]\n"
          ]
        }
      ]
    }
  ]
}