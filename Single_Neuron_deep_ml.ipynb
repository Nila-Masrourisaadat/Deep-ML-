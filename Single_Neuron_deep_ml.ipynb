{
  "nbformat": 4,
  "nbformat_minor": 0,
  "metadata": {
    "colab": {
      "provenance": []
    },
    "kernelspec": {
      "name": "python3",
      "display_name": "Python 3"
    },
    "language_info": {
      "name": "python"
    }
  },
  "cells": [
    {
      "cell_type": "markdown",
      "source": [
        "Write a Python function that simulates a single neuron with a sigmoid activation function for binary classification, handling multidimensional input features. The function should take a list of feature vectors (each vector representing multiple features for an example), associated true binary labels, and the neuron's weights (one for each feature) and bias as input. It should return the predicted probabilities after sigmoid activation and the mean squared error between the predicted probabilities and the true labels, both rounded to four decimal places.\n",
        "\n",
        "Example:\n",
        "\n",
        "Input:\n",
        "\n",
        "features = [[0.5, 1.0], [-1.5, -2.0], [2.0, 1.5]], labels = [0, 1, 0], weights = [0.7, -0.4], bias = -0.1\n",
        "\n",
        "Output:\n",
        "\n",
        "([0.4626, 0.4134, 0.6682], 0.3349)\n",
        "\n",
        "Reasoning:\n",
        "\n",
        "For each input vector, the weighted sum is calculated by multiplying each feature by its corresponding weight, adding these up along with the bias, then applying the sigmoid function to produce a probability. The MSE is calculated as the average squared difference between each predicted probability and the corresponding true label.\n"
      ],
      "metadata": {
        "id": "tdaRgbhOnC3T"
      }
    },
    {
      "cell_type": "code",
      "execution_count": 17,
      "metadata": {
        "id": "9PSa8eIAlAcP"
      },
      "outputs": [],
      "source": [
        "import numpy as np\n",
        "def single_neuron(features, labels, weights, bias):\n",
        "  n=len(features)\n",
        "  predicted=[]\n",
        "  for sample in features:\n",
        "    z=np.sum(np.matmul(sample,weights))+bias\n",
        "    predicted.append(1/(1+np.exp(-z)))\n",
        "  diff=predicted-labels\n",
        "  MSE=(1/n)*np.sum(np.matmul(diff,diff))\n",
        "  return predicted, MSE"
      ]
    },
    {
      "cell_type": "code",
      "source": [
        "import math\n",
        "def single_neuron(features, labels, weights, bias):\n",
        "  n=len(features)\n",
        "  predicted=[]\n",
        "  for sample in features:\n",
        "    z=sum(feature*weight for feature, weight in zip(sample, weights))+bias\n",
        "    predicted.append(1/(1+math.exp(-z)))\n",
        "  MSE=(1/n)*sum((pred-true)**2 for pred,true in zip(predicted,labels))\n",
        "  return predicted, MSE"
      ],
      "metadata": {
        "id": "KEwZ-_-6y1zi"
      },
      "execution_count": 19,
      "outputs": []
    },
    {
      "cell_type": "code",
      "source": [
        "print(single_neuron(np.array([[0.5, 1.0], [-1.5, -2.0], [2.0, 1.5]]),  np.array([0, 1, 0]),  np.array([0.7, -0.4]), -0.1))"
      ],
      "metadata": {
        "colab": {
          "base_uri": "https://localhost:8080/"
        },
        "id": "3p6bJgVepN4J",
        "outputId": "1dcaf9ec-73a1-44db-8b08-b8301219f387"
      },
      "execution_count": 18,
      "outputs": [
        {
          "output_type": "stream",
          "name": "stdout",
          "text": [
            "([0.46257015465625034, 0.41338242108267, 0.668187772168166], 0.33485541024953136)\n"
          ]
        }
      ]
    },
    {
      "cell_type": "code",
      "source": [
        "print(single_neuron([[0.5, 1.0], [-1.5, -2.0], [2.0, 1.5]],  [0, 1, 0],  [0.7, -0.4], -0.1))"
      ],
      "metadata": {
        "colab": {
          "base_uri": "https://localhost:8080/"
        },
        "id": "vBaqPU6mzqk3",
        "outputId": "06054f8d-2cea-454e-a724-d6fca47c2fd3"
      },
      "execution_count": 20,
      "outputs": [
        {
          "output_type": "stream",
          "name": "stdout",
          "text": [
            "([0.46257015465625034, 0.41338242108267, 0.668187772168166], 0.33485541024953136)\n"
          ]
        }
      ]
    },
    {
      "cell_type": "markdown",
      "source": [
        "Single Neuron Model with Multidimensional Input and Sigmoid Activation\n",
        "\n",
        "This task involves a neuron model designed for binary classification with multidimensional input features, using the sigmoid activation function to output probabilities. It also involves calculating the mean squared error (MSE) to evaluate prediction accuracy.\n",
        "\n",
        "Mathematical Background\n",
        "\n",
        "Neuron Output Calculation:\n",
        "\n",
        "z=∑(weighti×featurei)+bias\n",
        "\n",
        "σ(z)=1+e−z1\n",
        "\n",
        "MSE Calculation:\n",
        "\n",
        "MSE=1/n∑(predicted−true)^2\n",
        "\n",
        "Explanation of Terms\n",
        "\n",
        "•\t( z ): The sum of weighted inputs plus bias.\n",
        "\n",
        "•\t( \\sigma(z) ): The sigmoid activation output.\n",
        "\n",
        "•\t( predicted ): The probabilities after sigmoid activation.\n",
        "\n",
        "•\t( true ): The true binary labels.\n",
        "\n",
        "Practical Implementation\n",
        "\n",
        "•\tEach feature vector is processed to calculate a combined weighted sum, which is then passed through the sigmoid function to determine the probability of the input belonging to the positive class.\n",
        "\n",
        "•\tMSE provides a measure of error, offering insights into the model's performance and aiding in its optimization.\n"
      ],
      "metadata": {
        "id": "4kGiXnOUnOzH"
      }
    },
    {
      "cell_type": "code",
      "source": [],
      "metadata": {
        "id": "m6eqg7w2nUu9"
      },
      "execution_count": null,
      "outputs": []
    }
  ]
}