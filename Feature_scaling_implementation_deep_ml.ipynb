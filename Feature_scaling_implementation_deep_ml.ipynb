{
  "nbformat": 4,
  "nbformat_minor": 0,
  "metadata": {
    "colab": {
      "provenance": []
    },
    "kernelspec": {
      "name": "python3",
      "display_name": "Python 3"
    },
    "language_info": {
      "name": "python"
    }
  },
  "cells": [
    {
      "cell_type": "markdown",
      "source": [
        "write a python function that performs feature scaling on a dataset using both standarization and min-max normalization. The function should take a 2D Numpy array as input, where each row represents a data sample and each column represents a feature It should return two 2D Numpy arrays: one scaled by standarization and one by min-max normalization. Make sure all results are rounded to the nearest 4th decimal.\n",
        "standarization rescales the feature to have a mean of 0 and a standard deviation of 1. min-max normalization rescales the feature to a range of [0,1], where the min feature value maps to 0 and the maximum to 1."
      ],
      "metadata": {
        "id": "SZ6NpWr22Xd8"
      }
    },
    {
      "cell_type": "code",
      "execution_count": null,
      "metadata": {
        "id": "Epl2rZ-J2LOc"
      },
      "outputs": [],
      "source": [
        "import numpy as np\n",
        "def feature_scaling(data):\n",
        "  #standarization\n",
        "  mean=np.mean(data,axis=0)\n",
        "  std=np.std(data,axis=0)\n",
        "  standarized_data=(data-mean)/std\n",
        "  #normalization (min-max)\n",
        "  min_value=np.min(data,axis=0)\n",
        "  max_value=np.max(data,axis=0)\n",
        "  normalized_data=(data-min_value)/(max_value-min_value)\n",
        "  return np.round(standarized_data,4).tolist(), np.round(normalized_data,4).tolist()"
      ]
    },
    {
      "cell_type": "code",
      "source": [
        "data=np.array([[1,2],[3,4],[5,6]])\n",
        "print(feature_scaling(data))"
      ],
      "metadata": {
        "colab": {
          "base_uri": "https://localhost:8080/"
        },
        "id": "mocRakZcWmNV",
        "outputId": "5169a7c6-7534-47fd-828d-35489646810f"
      },
      "execution_count": null,
      "outputs": [
        {
          "output_type": "stream",
          "name": "stdout",
          "text": [
            "([[-1.2247, -1.2247], [0.0, 0.0], [1.2247, 1.2247]], [[0.0, 0.0], [0.5, 0.5], [1.0, 1.0]])\n"
          ]
        }
      ]
    },
    {
      "cell_type": "code",
      "source": [],
      "metadata": {
        "id": "OoAAE1hZXjn1"
      },
      "execution_count": null,
      "outputs": []
    }
  ]
}