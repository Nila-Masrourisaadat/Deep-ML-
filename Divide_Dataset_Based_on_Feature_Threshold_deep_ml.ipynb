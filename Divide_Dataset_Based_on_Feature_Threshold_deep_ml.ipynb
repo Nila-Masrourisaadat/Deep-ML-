{
  "nbformat": 4,
  "nbformat_minor": 0,
  "metadata": {
    "colab": {
      "provenance": []
    },
    "kernelspec": {
      "name": "python3",
      "display_name": "Python 3"
    },
    "language_info": {
      "name": "python"
    }
  },
  "cells": [
    {
      "cell_type": "markdown",
      "source": [
        "Write a Python function to divide a dataset based on whether the value of a specified feature is greater than or equal to a given threshold. The function should return two subsets of the dataset: one with samples that meet the condition and another with samples that do not."
      ],
      "metadata": {
        "id": "xu6i8u01DLG8"
      }
    },
    {
      "cell_type": "code",
      "source": [
        "#mysolution\n",
        "import numpy as np\n",
        "def dataset_division(X,feature_i,threshold):\n",
        "  n_samples,n_features=X.shape\n",
        "  greater=[]\n",
        "  lower=[]\n",
        "  for i in range(n_samples):\n",
        "    if X[i][feature_i]>=threshold:\n",
        "      greater.append(X[i])\n",
        "    else:\n",
        "      lower.append(X[i])\n",
        "  return [greater,lower]"
      ],
      "metadata": {
        "id": "JREO5OdEDKx4"
      },
      "execution_count": 3,
      "outputs": []
    },
    {
      "cell_type": "code",
      "source": [
        "#better solution\n",
        "import numpy as np\n",
        "def dataset_division(X,feature_i,threshold):\n",
        "  sample_func=None\n",
        "  if isinstance(threshold,int) or isinstance(threshold,float):\n",
        "    #if threshold is a numeric value\n",
        "    sample_func=lambda sample:sample[feature_i]>=threshold #This function takes a single input (sample) and evaluates whether the value of sample at index feature_i is greater than or equal to a given threshold.\n",
        "  else:\n",
        "    sample_func=lambda sample:sample[feature_i]==threshold\n",
        "\n",
        "  return[np.array([sample for sample in X if sample_func(sample)]),np.array([sample for sample in X if not sample_func(sample)])]"
      ],
      "metadata": {
        "id": "ykMF-UoFEyZo"
      },
      "execution_count": 7,
      "outputs": []
    },
    {
      "cell_type": "code",
      "execution_count": 8,
      "metadata": {
        "colab": {
          "base_uri": "https://localhost:8080/"
        },
        "id": "DCljO7qmC1SQ",
        "outputId": "0ed34bd3-2052-49b5-c6eb-5736b27e9c34"
      },
      "outputs": [
        {
          "output_type": "execute_result",
          "data": {
            "text/plain": [
              "[array([[ 5,  6],\n",
              "        [ 7,  8],\n",
              "        [ 9, 10]]),\n",
              " array([[1, 2],\n",
              "        [3, 4]])]"
            ]
          },
          "metadata": {},
          "execution_count": 8
        }
      ],
      "source": [
        "X = np.array([[1, 2],\n",
        "                  [3, 4],\n",
        "                  [5, 6],\n",
        "                  [7, 8],\n",
        "                  [9, 10]])\n",
        "feature_i = 0\n",
        "threshold = 5\n",
        "dataset_division(X,feature_i,threshold)"
      ]
    },
    {
      "cell_type": "markdown",
      "source": [
        "The dataset X is divided based on whether the value in the 0th feature (first column) is greater than or equal to 5. Samples with the first column value >= 5 are in the first subset, and the rest are in the second subset.\n",
        "\n"
      ],
      "metadata": {
        "id": "c5wsQeLpDSkP"
      }
    }
  ]
}