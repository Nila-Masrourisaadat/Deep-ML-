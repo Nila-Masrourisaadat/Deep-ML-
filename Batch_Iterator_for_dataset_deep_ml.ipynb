{
  "nbformat": 4,
  "nbformat_minor": 0,
  "metadata": {
    "colab": {
      "provenance": []
    },
    "kernelspec": {
      "name": "python3",
      "display_name": "Python 3"
    },
    "language_info": {
      "name": "python"
    }
  },
  "cells": [
    {
      "cell_type": "markdown",
      "source": [
        "implement a batch iterator function that samples a numpy array X and an optional numpy array y. The function should yield batches a specified size. if y i sprovided, the function shoyld yield batches of (X,y) pairs; otherwise, it should yield batches of X only."
      ],
      "metadata": {
        "id": "ci0tpya_wpqL"
      }
    },
    {
      "cell_type": "code",
      "source": [
        "import numpy as np\n",
        "def batch_iterator(X,y=None,batch_size=64):\n",
        "  n_samples=X.shape[0]\n",
        "  batches=[]\n",
        "  #slicing\n",
        "  for i in np.arange(0,n_samples,batch_size):\n",
        "    begin,end=i,min(i+batch_size,n_samples)\n",
        "    if y is not None:\n",
        "      batches.append([X[begin:end],y[begin:end]])\n",
        "    else:\n",
        "      batches.append(X[begin:end])\n",
        "  return batches"
      ],
      "metadata": {
        "id": "r-8J1Q6A6pZ-"
      },
      "execution_count": null,
      "outputs": []
    },
    {
      "cell_type": "code",
      "execution_count": null,
      "metadata": {
        "colab": {
          "base_uri": "https://localhost:8080/"
        },
        "id": "6R4rwJaOwkyU",
        "outputId": "e1287592-59aa-42d2-c2f4-75a960741241"
      },
      "outputs": [
        {
          "output_type": "execute_result",
          "data": {
            "text/plain": [
              "[[array([[1, 2],\n",
              "         [3, 4]]),\n",
              "  array([1, 2])],\n",
              " [array([[5, 6],\n",
              "         [7, 8]]),\n",
              "  array([3, 4])],\n",
              " [array([[ 9, 10]]), array([5])]]"
            ]
          },
          "metadata": {},
          "execution_count": 8
        }
      ],
      "source": [
        "X=np.array([[1,2],\n",
        "            [3,4],\n",
        "            [5,6],\n",
        "            [7,8],\n",
        "            [9,10]])\n",
        "y=np.array([1,2,3,4,5])\n",
        "batch_size=2\n",
        "batch_iterator(X,y,batch_size)"
      ]
    },
    {
      "cell_type": "code",
      "source": [],
      "metadata": {
        "id": "0Q3W39A74D9m"
      },
      "execution_count": null,
      "outputs": []
    }
  ]
}