{
  "nbformat": 4,
  "nbformat_minor": 0,
  "metadata": {
    "colab": {
      "provenance": []
    },
    "kernelspec": {
      "name": "python3",
      "display_name": "Python 3"
    },
    "language_info": {
      "name": "python"
    }
  },
  "cells": [
    {
      "cell_type": "markdown",
      "source": [
        "Write a Python function leaky_relu that implements the Leaky Rectified Linear Unit (Leaky ReLU) activation function. The function should take a float z as input and an optional float alpha, with a default value of 0.01, as the slope for negative inputs. The function should return the value after applying the Leaky ReLU function.\n",
        "\n",
        "Example:\n",
        "\n",
        "Input:\n",
        "\n",
        "print(leaky_relu(0))\n",
        "\n",
        "print(leaky_relu(1))\n",
        "\n",
        "print(leaky_relu(-1))\n",
        "\n",
        "print(leaky_relu(-2, alpha=0.1))\n",
        "\n",
        "Output:\n",
        "\n",
        "0\n",
        "\n",
        "1\n",
        "\n",
        "-0.01\n",
        "\n",
        "-0.2\n",
        "\n",
        "Reasoning:\n",
        "\n",
        "•\tFor z = 0, the output is 0.\n",
        "\n",
        "•\tFor z = 1, the output is 1.\n",
        "\n",
        "•\tFor z = -1, the output is -0.01 (0.01 * -1).\n",
        "\n",
        "•\tFor z = -2 with alpha = 0.1, the output is -0.2 (0.1 * -2).\n"
      ],
      "metadata": {
        "id": "QpWsUoeBdxE_"
      }
    },
    {
      "cell_type": "code",
      "execution_count": 1,
      "metadata": {
        "id": "tvbPEs_udmo1"
      },
      "outputs": [],
      "source": [
        "def leaky_relu(x,alpha=0.01):\n",
        "  if x<0:\n",
        "    return alpha*x\n",
        "  else:\n",
        "    return x"
      ]
    },
    {
      "cell_type": "code",
      "source": [
        "print(leaky_relu(-2,0.1),leaky_relu(0),leaky_relu(-1))"
      ],
      "metadata": {
        "colab": {
          "base_uri": "https://localhost:8080/"
        },
        "id": "AexjAKrenygA",
        "outputId": "1b70f1b3-3537-4b57-9a87-12e230443a77"
      },
      "execution_count": 3,
      "outputs": [
        {
          "output_type": "stream",
          "name": "stdout",
          "text": [
            "-0.2 0 -0.01\n"
          ]
        }
      ]
    },
    {
      "cell_type": "code",
      "source": [],
      "metadata": {
        "id": "5SxPhp0fn14B"
      },
      "execution_count": null,
      "outputs": []
    }
  ]
}