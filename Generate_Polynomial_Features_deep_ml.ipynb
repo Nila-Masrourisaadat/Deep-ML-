{
  "nbformat": 4,
  "nbformat_minor": 0,
  "metadata": {
    "colab": {
      "provenance": []
    },
    "kernelspec": {
      "name": "python3",
      "display_name": "Python 3"
    },
    "language_info": {
      "name": "python"
    }
  },
  "cells": [
    {
      "cell_type": "markdown",
      "source": [
        "Write a Python function to generate polynomial features for a given dataset. The function should take in a 2D numpy array X and an integer degree, and return a new 2D numpy array with polynomial features up to the specified degree."
      ],
      "metadata": {
        "id": "ns3nNOA0H2-w"
      }
    },
    {
      "cell_type": "markdown",
      "source": [
        "enerating polynomial features is a method used to create new features for a machine learning model by raising existing features to a specified power. This technique helps capture non-linear relationships between features.\n",
        "\n",
        "Example\n",
        "For instance, given a dataset with two features ( x_1 ) and ( x_2 ), generating polynomial features up to degree 2 will create new features such as:\n",
        "The original features: \\(x_1, x_2\\)  \n",
        "The squared terms: \\(x_1^2, x_2^2\\)  \n",
        "The interaction term: \\(x_1 \\cdot x_2\\)\n",
        "This expands the feature space, allowing a linear model to fit more complex, non-linear data.\n",
        "\n",
        "Problem Overview\n",
        "In this problem, you will write a function to generate polynomial features for a given dataset. Specifically:\n",
        "This method is useful in algorithms like polynomial regression, where capturing the relationship between features and the target variable requires polynomial terms. By understanding and implementing this technique, you can enhance the performance of your models on datasets with non-linear relationships.\n",
        "\n"
      ],
      "metadata": {
        "id": "kp4QawGiV5PN"
      }
    },
    {
      "cell_type": "code",
      "source": [
        "import numpy as np\n",
        "from itertools import combinations_with_replacement\n",
        "\n",
        "def polynomial_features(X, degree):\n",
        "  #first all the combinations of the feature selection with replacement\n",
        "  n_samples,n_features=X.shape\n",
        "\n",
        "  # Generate all combinations of feature indices for polynomial terms\n",
        "  def index_combinations():\n",
        "    combs=[combinations_with_replacement(range(n_features),i) for i in range(degree+1)] # for example if degree is 3 , we want all combinations of degree 0, 1, 2,3 #Combine all results for degrees 0 to degree into a list\n",
        "    flat_combs = [item for sublist in combs for item in sublist]#common for falttening nested list of list or list of generator\n",
        "    return flat_combs\n",
        "\n",
        "  combinations=index_combinations()\n",
        "  X_new=np.empty((n_samples,len(combinations)))\n",
        "\n",
        "  # Compute polynomial features\n",
        "  for i,index in enumerate(combinations):\n",
        "    X_new[:,i]=np.prod(X[:,index],axis=1)# , comma after:multi-dimensional array indexing in NumPy. It separates the row and column selection when accessing or modifying elements in a multi-dimensional array.\n",
        "\n",
        "  return X_new\n"
      ],
      "metadata": {
        "id": "DH7XbUIebPSf"
      },
      "execution_count": 3,
      "outputs": []
    },
    {
      "cell_type": "markdown",
      "source": [
        "Inputs for **combinations_with_replacement**\n",
        "\n",
        "The function combinations_with_replacement(range(n_features), i) is a part of Python's itertools library. It generates all possible combinations of indices with repetition (or replacement), where each combination has exactly 𝑖i elements.\n",
        "\n",
        "\n",
        "Iterable (iterable):\n",
        "\n",
        "The input sequence or range of items from which combinations are generated.\n",
        "\n",
        "Example: A list, tuple, string, or range.\n",
        "\n",
        "Length (r):\n",
        "\n",
        "The length of each combination Must be an integer 𝑟≥0\n",
        "\n",
        "output:\n",
        "tuples of combinations, and when converted to a list, it becomes a list of tuples."
      ],
      "metadata": {
        "id": "_wQ44E98j-4W"
      }
    },
    {
      "cell_type": "markdown",
      "source": [
        "**X_new[:, i] = np.prod(X[:, index_combs], axis=1)**\n",
        "\n",
        "For each index_combs in combinations, we:\n",
        "\n",
        "Extract features (columns) from X specified by index_combs.\n",
        "\n",
        "Compute the product of the extracted features for each sample (row) in X.\n",
        "\n",
        "Store the result as the i-th column in new X .\n",
        "\n",
        "X[:, index_combs] extracts the specified columns from X for all rows.\n",
        "\n",
        "np.prod(..., axis=1) computes the product of these columns for each row."
      ],
      "metadata": {
        "id": "KtsRgPlBibr1"
      }
    },
    {
      "cell_type": "markdown",
      "source": [
        "\n",
        "### **Key Difference Between `X[:, 0]` and `X[:, [0]]` in NumPy**\n",
        "\n",
        "1. **`X[:, 0]` (Single Integer Index):**\n",
        "   - Selects the first column of \\(X\\).\n",
        "   - Collapses the column axis, returning a **1D array** (row-like).\n",
        "   - **Shape**: `(n_rows,)`.\n",
        "\n",
        "   Example:\n",
        "   ```python\n",
        "   X = np.array([[2, 3], [3, 4], [5, 6]])\n",
        "   print(X[:, 0])  # Output: [2, 3, 5] (1D)\n",
        "   ```\n",
        "\n",
        "---\n",
        "\n",
        "2. **`X[:, [0]]` (List Index):**\n",
        "   - Selects the first column of \\(X\\), but **preserves the 2D structure**.\n",
        "   - Returns a **2D column array**.\n",
        "   - **Shape**: `(n_rows, 1)`.\n",
        "\n",
        "   Example:\n",
        "   ```python\n",
        "   print(X[:, [0]])  # Output: [[2], [3], [5]] (2D)\n",
        "   ```\n",
        "\n",
        "---\n",
        "\n",
        "### **Why This Happens**\n",
        "- **Integer Index (`0`)**: NumPy reduces the column axis, returning a simpler 1D array.\n",
        "- **List Index (`[0]`)**: Tells NumPy to **preserve the structure** of the array, ensuring it remains 2D.\n",
        "\n",
        "---\n",
        "\n",
        "### **When to Use Each**\n",
        "- Use `X[:, 0]` when you need a 1D array of column values.\n",
        "- Use `X[:, [0]]` when you want to keep the data as a **2D column array**, useful in operations where consistent dimensions are required."
      ],
      "metadata": {
        "id": "DhyCtxMZiOg9"
      }
    },
    {
      "cell_type": "code",
      "execution_count": 4,
      "metadata": {
        "colab": {
          "base_uri": "https://localhost:8080/"
        },
        "id": "uU9DyfTGHNqN",
        "outputId": "14599c8a-02e8-486f-eb6f-8478b1bcec33"
      },
      "outputs": [
        {
          "output_type": "stream",
          "name": "stdout",
          "text": [
            "[[ 1.  2.  3.  4.  6.  9.]\n",
            " [ 1.  3.  4.  9. 12. 16.]\n",
            " [ 1.  5.  6. 25. 30. 36.]]\n"
          ]
        }
      ],
      "source": [
        "X = np.array([[2, 3],\n",
        "                  [3, 4],\n",
        "                  [5, 6]])\n",
        "degree = 2\n",
        "output = polynomial_features(X, degree)\n",
        "print(output)"
      ]
    },
    {
      "cell_type": "markdown",
      "source": [
        "For each sample in X, the function generates all polynomial combinations of the features up to the given degree. For degree=2, it includes combinations like [x1^0, x1^1, x1^2, x2^0, x2^1, x2^2, x1^1*x2^1], where x1 and x2 are the features."
      ],
      "metadata": {
        "id": "LWv0vu6XH9MI"
      }
    }
  ]
}