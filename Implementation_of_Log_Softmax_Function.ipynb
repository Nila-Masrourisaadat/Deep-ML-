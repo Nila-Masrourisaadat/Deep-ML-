{
  "nbformat": 4,
  "nbformat_minor": 0,
  "metadata": {
    "colab": {
      "provenance": []
    },
    "kernelspec": {
      "name": "python3",
      "display_name": "Python 3"
    },
    "language_info": {
      "name": "python"
    }
  },
  "cells": [
    {
      "cell_type": "markdown",
      "source": [
        "In machine learning and statistics, the softmax function is a generalization of the logistic function that converts a vector of scores into probabilities. The log-softmax function is the logarithm of the softmax function, and it is often used for numerical stability when computing the softmax of large numbers.\n",
        "Given a 1D numpy array of scores, implement a Python function to compute the log-softmax of the array.\n",
        "\n",
        "Example:\n",
        "\n",
        "Input:\n",
        "\n",
        "A = np.array([1, 2, 3])\n",
        "print(log_softmax(A))\n",
        "\n",
        "Output:\n",
        "\n",
        "array([-2.4076, -1.4076, -0.4076])\n",
        "\n",
        "Reasoning:\n",
        "\n",
        "The log-softmax function is applied to the input array [1, 2, 3]. The output array contains the log-softmax values for each element.\n"
      ],
      "metadata": {
        "id": "3Lmk5UYqObN3"
      }
    },
    {
      "cell_type": "code",
      "execution_count": 2,
      "metadata": {
        "id": "rbMu9kB0FebZ"
      },
      "outputs": [],
      "source": [
        "import numpy as np\n",
        "def softmax(scores):\n",
        "  scores_exp=np.exp(scores)\n",
        "  softmax=scores_exp/np.sum(scores_exp)\n",
        "  log_soft=np.log(softmax)\n",
        "  return np.round(log_soft,4)"
      ]
    },
    {
      "cell_type": "code",
      "source": [
        "print(softmax([1,2,3]))"
      ],
      "metadata": {
        "colab": {
          "base_uri": "https://localhost:8080/"
        },
        "id": "ndQm0AunSHOc",
        "outputId": "e386c2c5-c0da-47b4-f500-41485dc63f75"
      },
      "execution_count": 3,
      "outputs": [
        {
          "output_type": "stream",
          "name": "stdout",
          "text": [
            "[-2.4076 -1.4076 -0.4076]\n"
          ]
        }
      ]
    },
    {
      "cell_type": "code",
      "source": [],
      "metadata": {
        "id": "J7IfwFiNShQx"
      },
      "execution_count": null,
      "outputs": []
    }
  ]
}