{
  "nbformat": 4,
  "nbformat_minor": 0,
  "metadata": {
    "colab": {
      "provenance": []
    },
    "kernelspec": {
      "name": "python3",
      "display_name": "Python 3"
    },
    "language_info": {
      "name": "python"
    }
  },
  "cells": [
    {
      "cell_type": "markdown",
      "source": [
        "write function 'precision' that calculates the precision metric given two numpy arrays: 'y_true' and 'y_pred'. The y_true array contains the true binary labels, and the y_pred array contains the predicted binary labels. precision is defined as the ratio of the true positives to the sum of true positives and false positives."
      ],
      "metadata": {
        "id": "jA9tQ26u4sEf"
      }
    },
    {
      "cell_type": "code",
      "execution_count": null,
      "metadata": {
        "id": "oN5UOdFS4Hv5"
      },
      "outputs": [],
      "source": [
        "import numpy as np\n",
        "def precision(y_true,y_pred):\n",
        "  #true positive:maybe number of 1s from and ing the two arrays\n",
        "  TP=np.sum((y_true==1)&(y_pred==1))\n",
        "  #false positive\n",
        "  FP=np.sum((y_true==0)&(y_pred==1))\n",
        "  precision=TP/(TP+FP)\n",
        "  return precision"
      ]
    },
    {
      "cell_type": "code",
      "source": [
        "y_true=np.array([1,0,1,1,0,1])\n",
        "y_pred=np.array([1,0,1,0,0,1])\n",
        "result=precision(y_true, y_pred)\n",
        "print(result)"
      ],
      "metadata": {
        "colab": {
          "base_uri": "https://localhost:8080/"
        },
        "id": "TQx7jLfr5oTb",
        "outputId": "69dd5ca6-7296-4809-f0cf-c262d370bddc"
      },
      "execution_count": null,
      "outputs": [
        {
          "output_type": "stream",
          "name": "stdout",
          "text": [
            "1.0\n"
          ]
        }
      ]
    },
    {
      "cell_type": "code",
      "source": [],
      "metadata": {
        "id": "8HUHXZ7r8SHn"
      },
      "execution_count": null,
      "outputs": []
    }
  ]
}