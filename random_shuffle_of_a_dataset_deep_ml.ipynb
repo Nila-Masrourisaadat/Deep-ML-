{
  "nbformat": 4,
  "nbformat_minor": 0,
  "metadata": {
    "colab": {
      "provenance": []
    },
    "kernelspec": {
      "name": "python3",
      "display_name": "Python 3"
    },
    "language_info": {
      "name": "python"
    }
  },
  "cells": [
    {
      "cell_type": "markdown",
      "source": [
        " write a python function to perform a random shuffle on the samples in two numpy array, X and y, while maintatining the corresponding order between them. The function should have an optional seed parameter for reproductability."
      ],
      "metadata": {
        "id": "E-pCxca_euKS"
      }
    },
    {
      "cell_type": "code",
      "source": [
        "import numpy as np\n",
        "def shuffle_data(X,y,seed=None):\n",
        "  if seed:\n",
        "    np.random.seed(seed)#initializes the random number generator to produce the same sequence of random numbers every time\n",
        "  idx=np.arange(X.shape[0])#generates an array of indices from zero to X.shape\n",
        "  np.random.shuffle(idx)#shuffles the indices in idx array\n",
        "  return X[idx],y[idx] #uses the shuffled indices"
      ],
      "metadata": {
        "id": "FH57P3t5emyZ"
      },
      "execution_count": null,
      "outputs": []
    },
    {
      "cell_type": "code",
      "source": [
        "X=np.array([[1,2],[3,4],[5,6],[7,8]])\n",
        "y=np.array([1,2,3,4])\n",
        "print(shuffle_data(X,y,seed=42))"
      ],
      "metadata": {
        "id": "HOW-XUQbfEvA",
        "colab": {
          "base_uri": "https://localhost:8080/"
        },
        "outputId": "becb156b-877d-4f31-cfa6-3253694f9b33"
      },
      "execution_count": null,
      "outputs": [
        {
          "output_type": "stream",
          "name": "stdout",
          "text": [
            "(array([[3, 4],\n",
            "       [7, 8],\n",
            "       [1, 2],\n",
            "       [5, 6]]), array([2, 4, 1, 3]))\n"
          ]
        }
      ]
    },
    {
      "cell_type": "markdown",
      "source": [],
      "metadata": {
        "id": "itMPmBvOemIp"
      }
    }
  ]
}