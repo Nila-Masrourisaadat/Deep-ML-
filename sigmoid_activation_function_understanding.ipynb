{
  "nbformat": 4,
  "nbformat_minor": 0,
  "metadata": {
    "colab": {
      "provenance": []
    },
    "kernelspec": {
      "name": "python3",
      "display_name": "Python 3"
    },
    "language_info": {
      "name": "python"
    }
  },
  "cells": [
    {
      "cell_type": "markdown",
      "source": [
        "Sigmoid Activation Function Understanding\n",
        "\n",
        "Write a Python function that computes the output of the sigmoid activation function given an input value z. The function should return the output rounded to four decimal places.\n",
        "\n",
        "Example:\n",
        "\n",
        "Input:\n",
        "z = 0\n",
        "Output:\n",
        "0.5\n",
        "\n",
        "Reasoning:\n",
        "\n",
        "The sigmoid function is defined as σ(z) = 1 / (1 + exp(-z)). For z = 0, exp(-0) = 1, hence the output is 1 / (1 + 1) = 0.5.\n",
        "Learn About topic\n"
      ],
      "metadata": {
        "id": "Rm7AaIgQ-tyk"
      }
    },
    {
      "cell_type": "code",
      "execution_count": 3,
      "metadata": {
        "id": "iVk2sh2Y9bKz"
      },
      "outputs": [],
      "source": [
        "import numpy as np\n",
        "def sigmoid(z):\n",
        "  return np.round(1/(1+np.exp(-z)),4)"
      ]
    },
    {
      "cell_type": "code",
      "source": [
        "print(sigmoid(0))"
      ],
      "metadata": {
        "colab": {
          "base_uri": "https://localhost:8080/"
        },
        "id": "I-IWDGFs_WWS",
        "outputId": "ce48bb50-dbf7-44a1-9140-3cea6b9cd4d1"
      },
      "execution_count": 4,
      "outputs": [
        {
          "output_type": "stream",
          "name": "stdout",
          "text": [
            "0.5\n"
          ]
        }
      ]
    },
    {
      "cell_type": "code",
      "source": [],
      "metadata": {
        "id": "x5TwRSDm_aAj"
      },
      "execution_count": null,
      "outputs": []
    }
  ]
}