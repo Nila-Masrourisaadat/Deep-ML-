{
  "nbformat": 4,
  "nbformat_minor": 0,
  "metadata": {
    "colab": {
      "provenance": []
    },
    "kernelspec": {
      "name": "python3",
      "display_name": "Python 3"
    },
    "language_info": {
      "name": "python"
    }
  },
  "cells": [
    {
      "cell_type": "markdown",
      "source": [
        "Write a Python function to determine whether a machine learning model is overfitting, underfitting, or performing well based on training and test accuracy values. The function should take two inputs: training_accuracy and test_accuracy. It should return one of three values: 1 if Overfitting, -1 if Underfitting, or 0 if a Good fit. The rules for determination are as follows:\n",
        "\n",
        "Overfitting: The training accuracy is significantly higher than the test accuracy (difference > 0.2).\n",
        "Underfitting: Both training and test accuracy are below 0.7.\n",
        "Good fit: Neither of the above conditions is true.\n"
      ],
      "metadata": {
        "id": "4G2R4XdRDybY"
      }
    },
    {
      "cell_type": "code",
      "source": [
        "def fit(training_accuracy, test_accuracy):\n",
        "  diff=training_accuracy- test_accuracy\n",
        "  if diff>0.2:\n",
        "    return 1\n",
        "  elif training_accuracy<0.7 and test_accuracy<0.7:\n",
        "    return 0\n",
        "\n",
        "  else:\n",
        "    return -1\n"
      ],
      "metadata": {
        "id": "1wAAbYDGra9J"
      },
      "execution_count": null,
      "outputs": []
    },
    {
      "cell_type": "code",
      "execution_count": null,
      "metadata": {
        "colab": {
          "base_uri": "https://localhost:8080/"
        },
        "id": "_vLG8cgmDsUM",
        "outputId": "e1208734-13d3-4276-cb53-ab04dc168956"
      },
      "outputs": [
        {
          "output_type": "stream",
          "name": "stdout",
          "text": [
            "1\n"
          ]
        }
      ],
      "source": [
        "training_accuracy = 0.95\n",
        "test_accuracy = 0.65\n",
        "print(fit(training_accuracy, test_accuracy))"
      ]
    },
    {
      "cell_type": "code",
      "source": [],
      "metadata": {
        "id": "tsdmYmMPsCm2"
      },
      "execution_count": null,
      "outputs": []
    }
  ]
}