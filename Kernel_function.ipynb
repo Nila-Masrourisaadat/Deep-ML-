{
  "nbformat": 4,
  "nbformat_minor": 0,
  "metadata": {
    "colab": {
      "provenance": []
    },
    "kernelspec": {
      "name": "python3",
      "display_name": "Python 3"
    },
    "language_info": {
      "name": "python"
    }
  },
  "cells": [
    {
      "cell_type": "markdown",
      "source": [
        "python function 'kernel_function' that computes the linear kernel between two input vectors 'x1' and 'x2'. The linear kernel is defined as the dot product (inner product) of two"
      ],
      "metadata": {
        "id": "AIQVwlm5eMEN"
      }
    },
    {
      "cell_type": "code",
      "execution_count": null,
      "metadata": {
        "id": "TtCU4ngoYOnj"
      },
      "outputs": [],
      "source": [
        "import numpy as np\n",
        "\n",
        "def kernel_function(x1,x2):\n",
        "  return np.inner(x1,x2)"
      ]
    },
    {
      "cell_type": "code",
      "source": [
        "x1=np.array([1,2,3])\n",
        "x2=np.array([4,5,6])\n",
        "print(kernel_function(x1,x2))"
      ],
      "metadata": {
        "colab": {
          "base_uri": "https://localhost:8080/"
        },
        "id": "f0OLIY4SfFdN",
        "outputId": "370d64c7-c79a-4cc6-cac3-96ed24c4ae83"
      },
      "execution_count": null,
      "outputs": [
        {
          "output_type": "stream",
          "name": "stdout",
          "text": [
            "32\n"
          ]
        }
      ]
    },
    {
      "cell_type": "code",
      "source": [],
      "metadata": {
        "id": "Ea9u8j2bfNo_"
      },
      "execution_count": null,
      "outputs": []
    }
  ]
}