{
  "nbformat": 4,
  "nbformat_minor": 0,
  "metadata": {
    "colab": {
      "provenance": []
    },
    "kernelspec": {
      "name": "python3",
      "display_name": "Python 3"
    },
    "language_info": {
      "name": "python"
    }
  },
  "cells": [
    {
      "cell_type": "markdown",
      "source": [
        "Write a Python function that computes the softmax activation for a given list of scores. The function should return the softmax values as a list, each rounded to four decimal places.\n",
        "\n",
        "Example:\n",
        "\n",
        "Input:\n",
        "\n",
        "scores = [1, 2, 3]\n",
        "\n",
        "Output:\n",
        "\n",
        "[0.0900, 0.2447, 0.6652]\n",
        "\n",
        "Reasoning:\n",
        "\n",
        "The softmax function converts a list of values into a probability distribution. The probabilities are proportional to the exponential of each element divided by the sum of the exponentials of all elements in the list.\n"
      ],
      "metadata": {
        "id": "tcTpNbXXD3Zv"
      }
    },
    {
      "cell_type": "code",
      "execution_count": 1,
      "metadata": {
        "id": "JsIZYpFGDyMH"
      },
      "outputs": [],
      "source": [
        "import numpy as np\n",
        "def softmax(scores):\n",
        "  scores_exp=np.exp(scores)\n",
        "  res=scores_exp/np.sum(scores_exp)\n",
        "  return np.round(res,4)"
      ]
    },
    {
      "cell_type": "code",
      "source": [
        "softmax([1,2,3])"
      ],
      "metadata": {
        "colab": {
          "base_uri": "https://localhost:8080/"
        },
        "id": "zTgkRPkIFWhS",
        "outputId": "0bc57b2a-0bfd-47de-faf6-820c3ae90d2b"
      },
      "execution_count": 2,
      "outputs": [
        {
          "output_type": "execute_result",
          "data": {
            "text/plain": [
              "array([0.09  , 0.2447, 0.6652])"
            ]
          },
          "metadata": {},
          "execution_count": 2
        }
      ]
    },
    {
      "cell_type": "code",
      "source": [],
      "metadata": {
        "id": "a-P_PXfhFZuS"
      },
      "execution_count": null,
      "outputs": []
    }
  ]
}