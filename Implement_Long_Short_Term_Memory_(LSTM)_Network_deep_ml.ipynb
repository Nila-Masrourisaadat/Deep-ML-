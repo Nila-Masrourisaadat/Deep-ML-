{
  "nbformat": 4,
  "nbformat_minor": 0,
  "metadata": {
    "colab": {
      "provenance": []
    },
    "kernelspec": {
      "name": "python3",
      "display_name": "Python 3"
    },
    "language_info": {
      "name": "python"
    }
  },
  "cells": [
    {
      "cell_type": "markdown",
      "source": [
        "Your task is to implement an LSTM network that processes a sequence of inputs and produces the final hidden state and cell state after processing all inputs.\n",
        "Write a class LSTM with the following methods:\n",
        "\n",
        "•\t__init__(self, input_size, hidden_size): Initializes the LSTM with random weights and zero biases.\n",
        "\n",
        "•\tforward(self, x, initial_hidden_state, initial_cell_state): Processes a sequence of inputs and returns the hidden states at each time step, as well as the final hidden state and cell state.\n",
        "\n",
        "The LSTM should compute the forget gate, input gate, candidate cell state, and output gate at each time step to update the hidden state and cell state.\n",
        "\n",
        "Example:\n",
        "\n",
        "Input:\n",
        "\n",
        "input_sequence = np.array([[1.0], [2.0], [3.0]])\n",
        "\n",
        "initial_hidden_state = np.zeros((1, 1))\n",
        "\n",
        "initial_cell_state = np.zeros((1, 1))\n",
        "\n",
        "lstm = LSTM(input_size=1, hidden_size=1)\n",
        "\n",
        "outputs, final_h, final_c = lstm.forward(input_sequence, initial_hidden_state, initial_cell_state)\n",
        "\n",
        "print(final_h)\n",
        "Output:\n",
        "\n",
        "[[0.73698596]] (approximate)\n",
        "\n",
        "Reasoning:\n",
        "\n",
        "The LSTM processes the input sequence [1.0, 2.0, 3.0] and produces the final hidden state [0.73698596].\n"
      ],
      "metadata": {
        "id": "b244a-nbn4aB"
      }
    },
    {
      "cell_type": "code",
      "execution_count": 12,
      "metadata": {
        "id": "DuxRj8NsnF3k"
      },
      "outputs": [],
      "source": [
        "import numpy as np\n",
        "class LSTM:\n",
        "  def __init__(self,input_size, hidden_size):\n",
        "    self.input_size=input_size\n",
        "    self.hidden_size=hidden_size\n",
        "    #weights\n",
        "    dimensions=(hidden_size,input_size+hidden_size)\n",
        "    self.wf=np.zeros(dimensions)\n",
        "    self.wi=np.zeros(dimensions)\n",
        "    self.wc=np.zeros(dimensions)\n",
        "    self.wo=np.zeros(dimensions)\n",
        "    #biases\n",
        "    self.bf=np.zeros((hidden_size, 1))\n",
        "    self.bi=np.zeros((hidden_size, 1))\n",
        "    self.bc=np.zeros((hidden_size, 1))\n",
        "    self.bo=np.zeros((hidden_size, 1))\n",
        "\n",
        "  def sigmoid(self,z):\n",
        "    return (1/(1+np.exp(-z)))\n",
        "\n",
        "  def forward(self, x, initial_hidden_state, initial_cell_state):\n",
        "    ht, ct = initial_hidden_state, initial_cell_state\n",
        "    for input in x:\n",
        "      input=input.reshape(1,-1) #in case the input is multidimensional this will turn it into row vector\n",
        "      h_x=np.concatenate((ht, input),axis=1)\n",
        "      #forget gate\n",
        "      ft=self.sigmoid(np.dot(h_x, self.wf.T)+self.bf)\n",
        "\n",
        "      #input gate\n",
        "      it=self.sigmoid(np.dot( h_x, self.wi.T)+self.bi)\n",
        "      ct_p=np.tanh(np.dot(h_x,self.wc.T)+self.bc)\n",
        "\n",
        "      #cell state update\n",
        "      ct=ft*ct+it*ct_p\n",
        "\n",
        "      #output gate\n",
        "      ot=self.sigmoid(np.dot(h_x,self.wo.T)+self.bo)\n",
        "      ht=ot*np.tanh(ct)\n",
        "\n",
        "\n",
        "    return ot,ht,ct\n",
        "\n"
      ]
    },
    {
      "cell_type": "code",
      "source": [
        "input_sequence = np.array([[1.0], [2.0], [3.0]])\n",
        "\n",
        "initial_hidden_state = np.zeros((1, 1))\n",
        "\n",
        "initial_cell_state = np.zeros((1, 1))\n",
        "\n",
        "lstm = LSTM(input_size=1, hidden_size=1)\n",
        "\n",
        "print(lstm.forward(input_sequence,initial_hidden_state, initial_cell_state))\n"
      ],
      "metadata": {
        "colab": {
          "base_uri": "https://localhost:8080/"
        },
        "id": "D6LE5VyUB_Cm",
        "outputId": "eee72dd0-b41b-4fe7-ea89-5fa1cdbb8f6a"
      },
      "execution_count": 13,
      "outputs": [
        {
          "output_type": "stream",
          "name": "stdout",
          "text": [
            "(array([[0.5]]), array([[0.]]), array([[0.]]))\n"
          ]
        }
      ]
    },
    {
      "cell_type": "code",
      "source": [],
      "metadata": {
        "id": "_UxbWTjEUz-3"
      },
      "execution_count": null,
      "outputs": []
    }
  ]
}