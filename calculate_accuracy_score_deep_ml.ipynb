{
  "nbformat": 4,
  "nbformat_minor": 0,
  "metadata": {
    "colab": {
      "provenance": []
    },
    "kernelspec": {
      "name": "python3",
      "display_name": "Python 3"
    },
    "language_info": {
      "name": "python"
    }
  },
  "cells": [
    {
      "cell_type": "markdown",
      "source": [
        "write a python function to calculate the accuracy score of a model's predictions. The function should take in two 1D numpy arrays: y_true, which contains the true labels, and y_pred, which contains the predicted labels. It should return the accuracy score as a float. accuracy score calculates the ratio of the true prediction over all predictions."
      ],
      "metadata": {
        "id": "jWmuj9l4GcPM"
      }
    },
    {
      "cell_type": "code",
      "source": [
        "import numpy as np\n",
        "def accuracy_score(y_true,y_pred):\n",
        "  T=np.sum(y_true==y_pred,axis=0)\n",
        "  return np.round(T/len(y_pred),3)"
      ],
      "metadata": {
        "id": "wRipUcPnHfEt"
      },
      "execution_count": null,
      "outputs": []
    },
    {
      "cell_type": "code",
      "execution_count": null,
      "metadata": {
        "colab": {
          "base_uri": "https://localhost:8080/"
        },
        "id": "aFi1DyIoFYGs",
        "outputId": "ab2246d1-65b1-4908-b6a6-2e477249fa49"
      },
      "outputs": [
        {
          "output_type": "stream",
          "name": "stdout",
          "text": [
            "0.833\n"
          ]
        }
      ],
      "source": [
        "y_true=np.array([1,0,1,1,0,1])\n",
        "y_pred=np.array([1,0,0,1,0,1])\n",
        "output=accuracy_score(y_true,y_pred)\n",
        "print(output)"
      ]
    },
    {
      "cell_type": "code",
      "source": [],
      "metadata": {
        "id": "1yEfQ-WHuFFi"
      },
      "execution_count": null,
      "outputs": []
    }
  ]
}