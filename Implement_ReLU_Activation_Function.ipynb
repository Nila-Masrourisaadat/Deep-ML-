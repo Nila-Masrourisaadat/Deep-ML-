{
  "nbformat": 4,
  "nbformat_minor": 0,
  "metadata": {
    "colab": {
      "provenance": []
    },
    "kernelspec": {
      "name": "python3",
      "display_name": "Python 3"
    },
    "language_info": {
      "name": "python"
    }
  },
  "cells": [
    {
      "cell_type": "markdown",
      "source": [
        "Write a Python function relu that implements the Rectified Linear Unit (ReLU) activation function. The function should take a single float as input and return the value after applying the ReLU function. The ReLU function returns the input if it's greater than 0, otherwise, it returns 0.\n",
        "\n",
        "Example:\n",
        "\n",
        "Input:\n",
        "\n",
        "print(relu(0))\n",
        "\n",
        "print(relu(1))\n",
        "\n",
        "print(relu(-1))\n",
        "\n",
        "Output:\n",
        "\n",
        "0\n",
        "\n",
        "1\n",
        "\n",
        "0\n",
        "\n",
        "Reasoning:\n",
        "\n",
        "The ReLU function is applied to the input values 0, 1, and -1. The output is 0 for negative values and the input value for non-negative values.\n"
      ],
      "metadata": {
        "id": "Xh3MNvTfa-uS"
      }
    },
    {
      "cell_type": "code",
      "execution_count": 1,
      "metadata": {
        "id": "v9rBCafTas4m"
      },
      "outputs": [],
      "source": [
        "def Relu(x):\n",
        "  if x<0:\n",
        "    return 0\n",
        "  else:\n",
        "    return x"
      ]
    },
    {
      "cell_type": "code",
      "source": [
        "print(Relu(0),Relu(1),Relu(-1))"
      ],
      "metadata": {
        "colab": {
          "base_uri": "https://localhost:8080/"
        },
        "id": "qtdL3rS2bzah",
        "outputId": "361851e8-c79f-46d2-e199-7c093b7b821e"
      },
      "execution_count": 3,
      "outputs": [
        {
          "output_type": "stream",
          "name": "stdout",
          "text": [
            "0 1 0\n"
          ]
        }
      ]
    },
    {
      "cell_type": "code",
      "source": [],
      "metadata": {
        "id": "527U-lMSb3ch"
      },
      "execution_count": null,
      "outputs": []
    }
  ]
}