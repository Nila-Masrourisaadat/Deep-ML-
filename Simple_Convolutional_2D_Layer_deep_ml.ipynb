{
  "nbformat": 4,
  "nbformat_minor": 0,
  "metadata": {
    "colab": {
      "provenance": []
    },
    "kernelspec": {
      "name": "python3",
      "display_name": "Python 3"
    },
    "language_info": {
      "name": "python"
    }
  },
  "cells": [
    {
      "cell_type": "markdown",
      "source": [
        "In this problem, you need to implement a 2D convolutional layer in Python. This function will process an input matrix using a specified convolutional kernel, padding, and stride.\n",
        "\n",
        "Example:\n",
        "\n",
        "Input:\n",
        "\n",
        "import numpy as np\n",
        "\n",
        "\n",
        "input_matrix = np.array([\n",
        "    [1, 2, 3, 4],\n",
        "    [5, 6, 7, 8],\n",
        "    [9, 10, 11, 12],\n",
        "    [13, 14, 15, 16]\n",
        "])\n",
        "\n",
        "kernel = np.array([\n",
        "    [1, 0],\n",
        "    [-1, 1]\n",
        "])\n",
        "\n",
        "padding = 1\n",
        "stride = 2\n",
        "\n",
        "output = simple_conv2d(input_matrix, kernel, padding, stride)\n",
        "print(output)\n",
        "\n",
        "Output:\n",
        "\n",
        " [[  3.   9.]\n",
        "  [ 11.  17.]]\n",
        "\n",
        "Reasoning:\n",
        "\n",
        "The function performs a 2D convolution operation on the input matrix using the specified kernel, padding, and stride. The output matrix contains the results of the convolution operation.\n"
      ],
      "metadata": {
        "id": "8EZPZLwdwdg9"
      }
    },
    {
      "cell_type": "code",
      "execution_count": 25,
      "metadata": {
        "id": "63Lzp4XFwCIV"
      },
      "outputs": [],
      "source": [
        "import numpy as np\n",
        "def CNN(input_matrix, kernel, padding=1,stride=1):\n",
        "  k_h, k_w = kernel.shape\n",
        "\n",
        "  #padding\n",
        "  padded_matrix=np.pad(input_matrix,((padding,padding),(padding,padding)), mode='constant')#pads with zero\n",
        "\n",
        "  #output size\n",
        "  out_h=(len(padded_matrix)-k_h)//stride +1\n",
        "  out_w=(len(padded_matrix[0])-k_w)//stride +1\n",
        "  output=[]\n",
        "  #convolution with kernel and stride\n",
        "  for row in range(0,out_h*stride, stride):\n",
        "    pixel=[]\n",
        "    for col in range(0,out_w*stride,stride):\n",
        "        pixel.append(np.sum(kernel*padded_matrix[row:row +k_h,col:col+k_w]))\n",
        "    output.append(pixel)\n",
        "\n",
        "  return output"
      ]
    },
    {
      "cell_type": "code",
      "source": [
        "print(CNN(np.array([ [1, 2, 3, 4], [5, 6, 7, 8], [9, 10, 11, 12], [13, 14, 15, 16] ]),np.array([ [1, 0], [-1, 1] ]),1,2))"
      ],
      "metadata": {
        "colab": {
          "base_uri": "https://localhost:8080/"
        },
        "id": "Dt4xJjVK2m6G",
        "outputId": "7379e977-b943-4018-f0a8-3da38d4f95da"
      },
      "execution_count": 26,
      "outputs": [
        {
          "output_type": "stream",
          "name": "stdout",
          "text": [
            "[[1, 1, -4], [9, 7, -4], [0, 14, 16]]\n"
          ]
        }
      ]
    },
    {
      "cell_type": "markdown",
      "source": [
        "The Convolutional layer is a fundamental component used extensively in Computer Vision tasks. Here are the crucial parameters:\n",
        "\n",
        "Parameters\n",
        "\n",
        "1.\tinput_matrix:\n",
        "\n",
        "A 2D NumPy array representing the input data, such as an image. Each element in this array corresponds to a pixel or a feature value in the input space. The dimensions of the input matrix are typically represented as height×widthheight×width.\n",
        "\n",
        "2.\tkernel:\n",
        "\n",
        "Another 2D NumPy array representing the convolutional filter. The kernel is smaller than the input matrix and slides over it to perform the convolution operation. Each element in the kernel serves as a weight that modifies the input during convolution. The kernel size is denoted as kernel_height×kernel_widthkernel_height×kernel_width.\n",
        "\n",
        "3.\tpadding:\n",
        "\n",
        "An integer specifying the number of rows and columns of zeros added around the input matrix. Padding controls the spatial dimensions of the output, allowing the kernel to process edge elements effectively or to maintain the original input size.\n",
        "\n",
        "4.\tstride:\n",
        "\n",
        "An integer that represents the number of steps the kernel moves across the input matrix for each convolution. A stride greater than one reduces the output size, as the kernel skips over elements.\n",
        "\n",
        "Implementation\n",
        "\n",
        "1.\tPadding the Input:\n",
        "\n",
        "The input matrix is padded with zeros based on the specified padding value. This increases the input size and enables the kernel to cover elements at the borders and corners.\n",
        "\n",
        "2.\tCalculating Output Dimensions:\n",
        "\n",
        "The height and width of the output matrix are calculated using the following formulas:\n",
        "\n",
        "output_height=(input_height, padded−kernel_heightstride)+1output_height=(strideinput_height, padded−kernel_height)+1output_width=(input_width, padded−kernel_widthstride)+1output_width=(strideinput_width, padded−kernel_width)+1\n",
        "\n",
        "3.\tPerforming Convolution:\n",
        "\n",
        "o\tA nested loop iterates over each position where the kernel can be applied to the padded input matrix.\n",
        "\n",
        "o\tAt each position, a region of the input matrix, matching the size of the kernel, is selected.\n",
        "\n",
        "o\tElement-wise multiplication between the kernel and the input region is performed, followed by summing the results to produce a single value. This value is then stored in the corresponding position of the output matrix.\n",
        "\n",
        "4.\tOutput:\n",
        "\n",
        "The function returns the output matrix, which contains the results of the convolution operation performed across the entire input.\n"
      ],
      "metadata": {
        "id": "csHPQ1HJwsj1"
      }
    },
    {
      "cell_type": "code",
      "source": [],
      "metadata": {
        "id": "wagG0keqw1N9"
      },
      "execution_count": null,
      "outputs": []
    }
  ]
}