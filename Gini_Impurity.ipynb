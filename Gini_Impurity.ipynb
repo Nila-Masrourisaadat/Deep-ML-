{
  "nbformat": 4,
  "nbformat_minor": 0,
  "metadata": {
    "colab": {
      "provenance": []
    },
    "kernelspec": {
      "name": "python3",
      "display_name": "Python 3"
    },
    "language_info": {
      "name": "python"
    }
  },
  "cells": [
    {
      "cell_type": "markdown",
      "source": [
        "implement a function that calculates the gini impurity for a set of classes. Ginin impurity is commonly used in decision tree algoirthm to measure the"
      ],
      "metadata": {
        "id": "qskwgHRiuPVA"
      }
    },
    {
      "cell_type": "code",
      "execution_count": null,
      "metadata": {
        "id": "0KbpA02Jf0I7"
      },
      "outputs": [],
      "source": [
        "import numpy as np\n",
        "def gini_impurity(y):\n",
        "  classes=set(y)\n",
        "  n=len(y)\n",
        "  gini_impurity=1\n",
        "  for cls in classes:\n",
        "    gini_impurity-=(y.count(cls)/n)**2\n",
        "  return np.round(gini_impurity,3)"
      ]
    },
    {
      "cell_type": "code",
      "source": [
        "y=[0,0,0,0,1,1,1,1]\n",
        "print(gini_impurity(y))"
      ],
      "metadata": {
        "colab": {
          "base_uri": "https://localhost:8080/"
        },
        "id": "_F_wkYWzvSQ9",
        "outputId": "c4d3549e-7c48-487c-ea8f-4cf083adc212"
      },
      "execution_count": null,
      "outputs": [
        {
          "output_type": "stream",
          "name": "stdout",
          "text": [
            "0.5\n"
          ]
        }
      ]
    },
    {
      "cell_type": "code",
      "source": [],
      "metadata": {
        "id": "xJerwC5LvYff"
      },
      "execution_count": null,
      "outputs": []
    }
  ]
}