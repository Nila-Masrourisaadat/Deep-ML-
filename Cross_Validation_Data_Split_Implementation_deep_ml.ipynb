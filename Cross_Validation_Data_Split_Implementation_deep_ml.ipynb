{
  "nbformat": 4,
  "nbformat_minor": 0,
  "metadata": {
    "colab": {
      "provenance": []
    },
    "kernelspec": {
      "name": "python3",
      "display_name": "Python 3"
    },
    "language_info": {
      "name": "python"
    }
  },
  "cells": [
    {
      "cell_type": "markdown",
      "source": [
        "Cross-Validation Data Split Implementation\n",
        "Write a Python function that performs k-fold cross-validation data splitting from scratch. The function should take a dataset (as a 2D NumPy array where each row represents a data sample and each column represents a feature) and an integer k representing the number of folds. The function should split the dataset into k parts, systematically use one part as the test set and the remaining as the training set, and return a list where each element is a tuple containing the training set and test set for each fold.\n"
      ],
      "metadata": {
        "id": "TTMPCX1XWaQX"
      }
    },
    {
      "cell_type": "code",
      "source": [
        "import numpy as np\n",
        "def cross_validation(data,k):\n",
        "  n_samples=data.shape[0]\n",
        "  n_splits=n_samples//k # because / returns a float\n",
        "  splits=[]\n",
        "  for i in range(k):\n",
        "    begin,end=i*n_splits,(i+1)*n_splits\n",
        "    test=data[begin:end].tolist()\n",
        "    train=np.concatenate((data[:begin],data[end:])).tolist()\n",
        "    splits.append((train,test))\n",
        "  return splits"
      ],
      "metadata": {
        "id": "PxL4Y0aVYUP6"
      },
      "execution_count": 6,
      "outputs": []
    },
    {
      "cell_type": "code",
      "source": [
        "#another solution\n",
        "import numpy as np\n",
        "def cross_validation2(data, k, seed):\n",
        "  np.random.seed(seed)\n",
        "  np.random.shuffle(data)\n",
        "\n",
        "  n,m=data.shape\n",
        "  sub_size=int(np.ceil(n/k))\n",
        "  id_s=np.arange(0,n,sub_size)\n",
        "  id_e=id_s+sub_size\n",
        "\n",
        "  return [(np.concatenate((data[:id_s[i]],data[id_e[i]:]),axis=0).tolist(),data[id_s[i]:id_e[i]].tolist()) for i in range(k)]\n"
      ],
      "metadata": {
        "id": "Eqbm1-EKeF6a"
      },
      "execution_count": 7,
      "outputs": []
    },
    {
      "cell_type": "code",
      "execution_count": 8,
      "metadata": {
        "colab": {
          "base_uri": "https://localhost:8080/"
        },
        "id": "Wv67gL3QReSO",
        "outputId": "dd89a6d2-be5d-48f9-c974-39b6e31e7e3a"
      },
      "outputs": [
        {
          "output_type": "stream",
          "name": "stdout",
          "text": [
            "[([[3, 4], [5, 6], [7, 8], [9, 10]], [[1, 2]]), ([[1, 2], [5, 6], [7, 8], [9, 10]], [[3, 4]]), ([[1, 2], [3, 4], [7, 8], [9, 10]], [[5, 6]]), ([[1, 2], [3, 4], [5, 6], [9, 10]], [[7, 8]]), ([[1, 2], [3, 4], [5, 6], [7, 8]], [[9, 10]])]\n",
            "[([[9, 10], [5, 6], [1, 2], [7, 8]], [[3, 4]]), ([[3, 4], [5, 6], [1, 2], [7, 8]], [[9, 10]]), ([[3, 4], [9, 10], [1, 2], [7, 8]], [[5, 6]]), ([[3, 4], [9, 10], [5, 6], [7, 8]], [[1, 2]]), ([[3, 4], [9, 10], [5, 6], [1, 2]], [[7, 8]])]\n"
          ]
        }
      ],
      "source": [
        "data = np.array([[1, 2], [3, 4], [5, 6], [7, 8], [9, 10]])\n",
        "k = 5\n",
        "print(cross_validation(data,k))\n",
        "print(cross_validation2(data,k,seed=42))"
      ]
    },
    {
      "cell_type": "markdown",
      "source": [
        "The dataset is divided into 5 parts, each being used once as a test set while the remaining parts serve as the training set.\n"
      ],
      "metadata": {
        "id": "9QG9oImcWkU3"
      }
    }
  ]
}