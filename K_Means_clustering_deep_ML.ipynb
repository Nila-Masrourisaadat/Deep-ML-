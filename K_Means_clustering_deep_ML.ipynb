{
  "nbformat": 4,
  "nbformat_minor": 0,
  "metadata": {
    "colab": {
      "provenance": []
    },
    "kernelspec": {
      "name": "python3",
      "display_name": "Python 3"
    },
    "language_info": {
      "name": "python"
    }
  },
  "cells": [
    {
      "cell_type": "markdown",
      "source": [
        "write a python function that implements the k-means clustering algorithm. This function should take specific inputs and produce a list of final centroids. k-means clustering is a method used to partition n points into k clusters. The goal is to group similar points together and represent each group by its center (called the centroid)\n",
        "the centroids get updated to the mean of the points in the each cluster"
      ],
      "metadata": {
        "id": "tJybN3H1jBfC"
      }
    },
    {
      "cell_type": "code",
      "source": [
        "import numpy as np\n",
        "\n",
        "def euclidean_distance(a,b):\n",
        "  return np.sqrt(((a-b)**2).sum(axis=1))\n",
        "\n",
        "def k_means_clustering(points, k, initial_centroids,max_iterations):\n",
        "  centroids=np.array(initial_centroids)\n",
        "  points=np.array(points)\n",
        "\n",
        "  for _ in range(max_iterations):\n",
        "      distances=np.array([euclidean_distance(centroid,points) for centroid in centroids])\n",
        "      #assign points to the nearest centroid\n",
        "      assignments=np.argmin(distances, axis=0)\n",
        "      new_centroids=np.array([points[assignments==i].mean(axis=0) if len(points[assignments==i])>0 else centroids[i] for i in range(k)])\n",
        "      #check for convergence\n",
        "      if np.all(centroids==new_centroids):\n",
        "        break\n",
        "      centroids=new_centroids\n",
        "      centroids=np.round(centroids,4)\n",
        "\n",
        "\n",
        "  return [tuple(centroid) for centroid in centroids]"
      ],
      "metadata": {
        "id": "iU68UwnlkiQV"
      },
      "execution_count": null,
      "outputs": []
    },
    {
      "cell_type": "markdown",
      "source": [
        "Boolean Indexing:\n",
        "\n",
        "The condition assignments == i produces a Boolean 1D array of shape assignments, where each element is True if the corresponding value in assignments equals i.\n",
        "When you use this Boolean array to index points, NumPy interprets it as a request to select rows where the Boolean array is True.\n",
        "NumPy applies the Boolean array along the first axis (rows) of points. This is because the number of elements in the Boolean array matches the number of rows in points.\n",
        "so lets say the assignments==i is [True, True, False, True, False] then the rows with indexs [0,1,3] will be selected\n",
        "and .mean(axis=0): axis=0 Means we are aggregating along the rows, producing one mean value per column."
      ],
      "metadata": {
        "id": "32W1NREfflMg"
      }
    },
    {
      "cell_type": "markdown",
      "source": [
        "centroids == new_centroids:\n",
        "\n",
        "Performs an element-wise comparison between centroids and new_centroids\n",
        "np.all():\n",
        "\n",
        "Evaluates whether all elements in the Boolean array are True.\n",
        "If every element is True, np.all() returns True; otherwise, it returns False."
      ],
      "metadata": {
        "id": "583F2CIZj48t"
      }
    },
    {
      "cell_type": "code",
      "execution_count": null,
      "metadata": {
        "colab": {
          "base_uri": "https://localhost:8080/"
        },
        "id": "f9cpM7yKi8wK",
        "outputId": "6b2c6b11-132a-45ed-e085-354e85240412"
      },
      "outputs": [
        {
          "output_type": "stream",
          "name": "stdout",
          "text": [
            "[(1.0, 2.0), (10.0, 2.0)]\n"
          ]
        }
      ],
      "source": [
        "points=[(1,2),(1,4),(1,0),(10,2),(10,4),(10,0)]\n",
        "k=2\n",
        "initial_centroids=[(1,1),(10,1)]\n",
        "max_iterations=10\n",
        "print(k_means_clustering(points, k, initial_centroids,max_iterations))"
      ]
    },
    {
      "cell_type": "code",
      "source": [],
      "metadata": {
        "id": "skToKPrronY2"
      },
      "execution_count": null,
      "outputs": []
    }
  ]
}