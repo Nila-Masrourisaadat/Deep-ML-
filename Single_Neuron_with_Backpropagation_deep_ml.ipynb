{
  "nbformat": 4,
  "nbformat_minor": 0,
  "metadata": {
    "colab": {
      "provenance": []
    },
    "kernelspec": {
      "name": "python3",
      "display_name": "Python 3"
    },
    "language_info": {
      "name": "python"
    }
  },
  "cells": [
    {
      "cell_type": "markdown",
      "source": [
        "Write a Python function that simulates a single neuron with sigmoid activation, and implements backpropagation to update the neuron's weights and bias. The function should take a list of feature vectors, associated true binary labels, initial weights, initial bias, a learning rate, and the number of epochs. The function should update the weights and bias using gradient descent based on the MSE loss, and return the updated weights, bias, and a list of MSE values for each epoch, each rounded to four decimal places.\n",
        "\n",
        "Example:\n",
        "\n",
        "Input:\n",
        "\n",
        "features = [[1.0, 2.0], [2.0, 1.0], [-1.0, -2.0]], labels = [1, 0, 0], initial_weights = [0.1, -0.2], initial_bias = 0.0, learning_rate = 0.1, epochs = 2\n",
        "\n",
        "Output:\n",
        "\n",
        "updated_weights = [0.1036, -0.1425], updated_bias = -0.0167, mse_values = [0.3033, 0.2942]\n",
        "\n",
        "Reasoning:\n",
        "\n",
        "The neuron receives feature vectors and computes predictions using the sigmoid activation. Based on the predictions and true labels, the gradients of MSE loss with respect to weights and bias are computed and used to update the model parameters across epochs.\n"
      ],
      "metadata": {
        "id": "kLSfJxbP0PIn"
      }
    },
    {
      "cell_type": "code",
      "source": [
        "import numpy as np\n",
        "def sigmoid(z):\n",
        "  return 1/(1+np.exp(-z))\n",
        "def sigmoid_grad(z):\n",
        "  return sigmoid(z)*(1-sigmoid(z))\n",
        "def neuron_backprop(features, labels, weights, bias, learning_rate, epochs):\n",
        "  n=len(labels)\n",
        "  y_pred=[]\n",
        "  mse_values=[]\n",
        "  #predictions\n",
        "  for _ in range(epochs):\n",
        "    z=np.matmul(features,weights)+bias\n",
        "    y_pred=sigmoid(z)\n",
        "    #error\n",
        "    diff=y_pred-labels\n",
        "    MSE=(1/n)*np.sum(diff**2)#element-wise squaring\n",
        "    mse_values.append(MSE)\n",
        "    #gradient\n",
        "    w_grad = (2/n) * np.dot(features.T, diff * sigmoid_grad(z)) #features dimensions is (n_samples*n_features) and w_grad is for each of the weights for each of the features so its dimension should be n_features\n",
        "    b_grad=(2/n)*np.sum(diff*sigmoid_grad(z))#sum over all the samples because the diff*sigmoid_grad(z) dimensions is (n_samples,) #also diff*sigmoid_grad(z) is element wise\n",
        "    #update\n",
        "    weights-=learning_rate*w_grad\n",
        "    bias-=learning_rate*b_grad\n",
        "  return weights.tolist(),bias, mse_values"
      ],
      "metadata": {
        "id": "x9TFTP-rN1Ho"
      },
      "execution_count": 3,
      "outputs": []
    },
    {
      "cell_type": "markdown",
      "source": [
        "np.dot(A, B): Performs dot product for 1D arrays and matrix multiplication for 2D arrays.\n",
        "\n",
        "np.matmul(A, B): Always performs matrix multiplication and does not behave like a dot product for 1D arrays."
      ],
      "metadata": {
        "id": "FEtdePQY0-yC"
      }
    },
    {
      "cell_type": "code",
      "source": [
        "print(neuron_backprop(np.array([[1.0, 2.0], [2.0, 1.0], [-1.0, -2.0]]), np.array([1, 0, 0]), np.array([0.1, -0.2]), 0.0,  0.1,  2))"
      ],
      "metadata": {
        "colab": {
          "base_uri": "https://localhost:8080/"
        },
        "id": "HPBD3fr-0EBp",
        "outputId": "fe05c1f3-5123-4cac-88f4-b8b0436da1fa"
      },
      "execution_count": 4,
      "outputs": [
        {
          "output_type": "stream",
          "name": "stdout",
          "text": [
            "([0.10357439996840352, -0.14254395564702677], -0.016719880375037202, [0.303322803413942, 0.2942232621822798])\n"
          ]
        }
      ]
    },
    {
      "cell_type": "markdown",
      "source": [
        "Neural Network Learning with Backpropagation\n",
        "\n",
        "This task involves implementing backpropagation for a single neuron in a neural network. The neuron processes inputs and updates parameters to minimize the Mean Squared Error (MSE) between predicted outputs and true labels.\n",
        "\n",
        "Mathematical Background\n",
        "\n",
        "### Forward Pass\n",
        "Compute the neuron output by calculating the dot product of the weights and input features, and adding the bias:\n",
        "\n",
        "\\[ z = w_1x_1 + w_2x_2 + \\dots + w_nx_n + b \\]\n",
        "\\[ \\sigma(z) = \\frac{1}{1 + e^{-z}} \\]\n",
        "\n",
        "### Loss Calculation (MSE)\n",
        "The Mean Squared Error quantifies the error between the neuron's predictions and the actual labels:\n",
        "\n",
        "\\[ MSE = \\frac{1}{n} \\sum_{i=1}^{n} (\\sigma(z_i) - y_i)^2 \\]\n",
        "\n",
        "### Backward Pass (Gradient Calculation)\n",
        "Compute the gradient of the MSE with respect to each weight and the bias. This involves the partial derivatives of the loss function with respect to the output of the neuron, multiplied by the derivative of the sigmoid function:\n",
        "\n",
        "\\[ \\frac{\\partial MSE}{\\partial w_j} = \\frac{2}{n} \\sum_{i=1}^{n} (\\sigma(z_i) - y_i) \\sigma'(z_i) x_{ij} \\]\n",
        "\n",
        "\\[ \\frac{\\partial MSE}{\\partial b} = \\frac{2}{n} \\sum_{i=1}^{n} (\\sigma(z_i) - y_i) \\sigma'(z_i) \\]\n",
        "\n",
        "### Parameter Update\n",
        "Update each weight and the bias by subtracting a portion of the gradient, determined by the learning rate \\( \\alpha \\):\n",
        "\n",
        "\\[ w_j = w_j - \\alpha \\frac{\\partial MSE}{\\partial w_j} \\]\n",
        "\\[ b = b - \\alpha \\frac{\\partial MSE}{\\partial b} \\]\n",
        "\n",
        "### Practical Implementation\n",
        "This process refines the neuron's ability to predict accurately by iteratively adjusting the weights and bias based on the error gradients, optimizing the neural network's performance over multiple iterations.\n"
      ],
      "metadata": {
        "id": "lBPOpjoR0Y72"
      }
    },
    {
      "cell_type": "code",
      "source": [],
      "metadata": {
        "id": "livMnEbj1KYg"
      },
      "execution_count": null,
      "outputs": []
    }
  ]
}