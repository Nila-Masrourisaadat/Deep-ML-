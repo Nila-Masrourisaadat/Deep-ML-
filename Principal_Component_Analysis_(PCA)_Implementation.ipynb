{
  "nbformat": 4,
  "nbformat_minor": 0,
  "metadata": {
    "colab": {
      "provenance": []
    },
    "kernelspec": {
      "name": "python3",
      "display_name": "Python 3"
    },
    "language_info": {
      "name": "python"
    }
  },
  "cells": [
    {
      "cell_type": "markdown",
      "source": [
        "Write a Python function that performs Principal Component Analysis (PCA) from scratch. The function should take a 2D NumPy array as input, where each row represents a data sample and each column represents a feature. The function should standardize the dataset, compute the covariance matrix, find the eigenvalues and eigenvectors, and return the principal components (the eigenvectors corresponding to the largest eigenvalues). The function should also take an integer k as input, representing the number of principal components to return.\n",
        ":\n"
      ],
      "metadata": {
        "id": "tuAdWL3X-6OU"
      }
    },
    {
      "cell_type": "code",
      "source": [
        "import numpy as np\n",
        "def principal_component(data,k):\n",
        "\n",
        "  #standarize the data\n",
        "  data_mean=np.mean(data,axis=0)\n",
        "  standarized_data=(data-data_mean) / np.std(data, axis=0) #broadcasts\n",
        "\n",
        "  #calculate the covariance\n",
        "  # cov_matrix=np.dot(standarized_data.T,standarized_data)\n",
        "  cov_matrix=np.cov(standarized_data,rowvar=False)\n",
        "\n",
        "  #calculate the eigen vectors and eigen values of the covariance matrix or correlation matrix\n",
        "  eigenvalues, eigenvectors = np.linalg.eig(cov_matrix)\n",
        "\n",
        "  # Sort the eigenvectors by decreasing eigenvalues\n",
        "  idx = np.argsort(eigenvalues)[::-1] #NumPy function that returns the indices that would sort an array in ascending order. #[::-1]:This is a slicing technique in Python to reverse the array.\n",
        "  eigenvalues_sorted = eigenvalues[idx]#you can index a NumPy array with another array (in this case, idx), and this feature is called fancy indexing or integer array indexing. This allows you to reorder or select elements from a NumPy array based on the indices provided in another array.\n",
        "  eigenvectors_sorted = eigenvectors[:,idx]\n",
        "\n",
        "  #select the top k eigen vectors (dimensionality reduction)\n",
        "  principal_components=eigenvectors[:,:k]\n",
        "\n",
        "  return np.round(principal_components,4)"
      ],
      "metadata": {
        "id": "dlaOq7Goe9Yx"
      },
      "execution_count": 21,
      "outputs": []
    },
    {
      "cell_type": "code",
      "execution_count": 22,
      "metadata": {
        "colab": {
          "base_uri": "https://localhost:8080/"
        },
        "id": "b-bXu4U0-ol6",
        "outputId": "21646d8b-efe3-42c5-92ab-d70ef3e28553"
      },
      "outputs": [
        {
          "output_type": "stream",
          "name": "stdout",
          "text": [
            "[[0.7071]\n",
            " [0.7071]]\n"
          ]
        }
      ],
      "source": [
        "data = np.array([[1, 2], [3, 4], [5, 6]])\n",
        "k = 1\n",
        "print(principal_component(data,k))"
      ]
    },
    {
      "cell_type": "markdown",
      "source": [
        "After standardizing the data and computing the covariance matrix, the eigenvalues and eigenvectors are calculated. The largest eigenvalue's corresponding eigenvector is returned as the principal component, rounded to four decimal places."
      ],
      "metadata": {
        "id": "htI0MbpqAL7-"
      }
    },
    {
      "cell_type": "markdown",
      "source": [
        "Understanding Eigenvalues in PCA\n",
        "Principal Component Analysis (PCA) utilizes the concept of eigenvalues and eigenvectors to identify the principal components of a dataset. Here's how eigenvalues fit into the PCA process:\n",
        "Eigenvalues and Eigenvectors: The Foundation of PCA\n",
        "For a given square matrix ( A ), representing the covariance matrix in PCA, eigenvalues ( \\lambda ) and their corresponding eigenvectors ( v ) satisfy:\n",
        "Av=λvAv=λv\n",
        "Calculating Eigenvalues\n",
        "The eigenvalues of matrix ( A ) are found by solving the characteristic equation:\n",
        "det⁡(A−λI)=0det(A−λI)=0\n",
        "where ( I ) is the identity matrix of the same dimension as ( A ). This equation highlights the relationship between a matrix, its eigenvalues, and eigenvectors.\n",
        "Role in PCA\n",
        "In PCA, the covariance matrix's eigenvalues represent the variance explained by its eigenvectors. Thus, selecting the eigenvectors associated with the largest eigenvalues is akin to choosing the principal components that retain the most data variance.\n",
        "Eigenvalues and Dimensionality Reduction\n",
        "The magnitude of an eigenvalue correlates with the importance of its corresponding eigenvector (principal component) in representing the dataset's variability. By selecting a subset of eigenvectors corresponding to the largest eigenvalues, PCA achieves dimensionality reduction while preserving as much of the dataset's variability as possible.\n",
        "Practical Application\n",
        "1.\tStandardize the Dataset: Ensure that each feature has a mean of 0 and a standard deviation of 1.\n",
        "2.\tCompute the Covariance Matrix: Reflects how features vary together.\n",
        "3.\tFind Eigenvalues and Eigenvectors: Solve the characteristic equation for the covariance matrix.\n",
        "4.\tSelect Principal Components: Choose eigenvectors (components) with the highest eigenvalues for dimensionality reduction.\n",
        "Through this process, PCA transforms the original features into a new set of uncorrelated features (principal components), ordered by the amount of original variance they explain.\n"
      ],
      "metadata": {
        "id": "dDtL8bJpAPyX"
      }
    },
    {
      "cell_type": "code",
      "source": [],
      "metadata": {
        "id": "o81i2y_OAQf4"
      },
      "execution_count": null,
      "outputs": []
    }
  ]
}