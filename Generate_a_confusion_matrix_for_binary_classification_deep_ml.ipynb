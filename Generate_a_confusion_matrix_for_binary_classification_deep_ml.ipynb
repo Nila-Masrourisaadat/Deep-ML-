{
  "nbformat": 4,
  "nbformat_minor": 0,
  "metadata": {
    "colab": {
      "provenance": []
    },
    "kernelspec": {
      "name": "python3",
      "display_name": "Python 3"
    },
    "language_info": {
      "name": "python"
    }
  },
  "cells": [
    {
      "cell_type": "markdown",
      "source": [
        "your task is to implement the function confusion_matrix(data) that generates a confusion matrix for binary classification problem. confusion matrix provides a summary of the prediction results on a classification problem, allowing you to visualize how many data points were correctly or incorrectly labeled.\n",
        "the confusion matrix shows the count of true positives, false negatives false positives and true negatives.data is list of list of [y_true,y_pred]"
      ],
      "metadata": {
        "id": "NBochF6WxFo_"
      }
    },
    {
      "cell_type": "code",
      "execution_count": null,
      "metadata": {
        "id": "wNO6RZXpwrYO"
      },
      "outputs": [],
      "source": [
        "import numpy as np\n",
        "def confusion_matrix(data):\n",
        "  confusion={}\n",
        "  for (y_true,y_pred) in data:\n",
        "    confusion[(y_true,y_pred)]=confusion.get((y_true,y_pred),0)+1\n",
        "  TP=confusion[(1,1)]\n",
        "  TN=confusion[(0,0)]\n",
        "  FP=confusion[(0,1)]\n",
        "  FN=confusion[(1,0)]\n",
        "  return [[TP,FN],[FP,TN]]"
      ]
    },
    {
      "cell_type": "code",
      "source": [
        "data=[[1,1],[1,0],[0,1],[0,0],[0,1]]\n",
        "print(confusion_matrix(data))\n"
      ],
      "metadata": {
        "colab": {
          "base_uri": "https://localhost:8080/"
        },
        "id": "VoikfrO0x9Xb",
        "outputId": "193f3d47-988d-468c-aa69-a4e2f64c82e7"
      },
      "execution_count": null,
      "outputs": [
        {
          "output_type": "stream",
          "name": "stdout",
          "text": [
            "[[1, 1], [2, 1]]\n"
          ]
        }
      ]
    },
    {
      "cell_type": "code",
      "source": [],
      "metadata": {
        "id": "PKd11ftNzUUt"
      },
      "execution_count": null,
      "outputs": []
    }
  ]
}