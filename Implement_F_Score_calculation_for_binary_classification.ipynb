{
  "nbformat": 4,
  "nbformat_minor": 0,
  "metadata": {
    "colab": {
      "provenance": []
    },
    "kernelspec": {
      "name": "python3",
      "display_name": "Python 3"
    },
    "language_info": {
      "name": "python"
    }
  },
  "cells": [
    {
      "cell_type": "markdown",
      "source": [
        "implement a function that calculates the F-score for a binary classification task. The F-score combines both precision and recall into a single metric,providing a balanced measure of a model's performance using list of predicted labels true labels and beta"
      ],
      "metadata": {
        "id": "YDxtetw32gwM"
      }
    },
    {
      "cell_type": "code",
      "execution_count": null,
      "metadata": {
        "id": "hpgwoAna2DL5"
      },
      "outputs": [],
      "source": [
        "import numpy as np\n",
        "def f_score(y_true,y_pred,beta):\n",
        "  actual=y_true\n",
        "  predicted=y_pred\n",
        "  TP=np.sum((actual==1) & (predicted==1))\n",
        "  TN=np.sum((actual==0) & (predicted==0))\n",
        "  FP=np.sum((actual==0) & (predicted==1))\n",
        "  FN=np.sum((actual==1) & (predicted==0))\n",
        "  #precision\n",
        "  precision=TP/(TP+FP)\n",
        "  #recall\n",
        "  recall=TP/(TP+FN)\n",
        "  F1_score=(1+(beta**2))*(precision*recall)/(((beta**2)*precision)+recall)\n",
        "  return round(F1_score,3)"
      ]
    },
    {
      "cell_type": "code",
      "source": [
        "y_true=np.array([1,0,1,1,0,1])\n",
        "y_pred=np.array([1,0,1,0,0,1])\n",
        "beta=1\n",
        "print(f_score(y_true,y_pred,beta))"
      ],
      "metadata": {
        "colab": {
          "base_uri": "https://localhost:8080/"
        },
        "id": "lDJ07i-I74aZ",
        "outputId": "f0fc1080-4da5-43dd-be76-d6095a1244f7"
      },
      "execution_count": null,
      "outputs": [
        {
          "output_type": "stream",
          "name": "stdout",
          "text": [
            "0.857\n"
          ]
        }
      ]
    },
    {
      "cell_type": "code",
      "source": [],
      "metadata": {
        "id": "tKtRY8JQ8FRy"
      },
      "execution_count": null,
      "outputs": []
    }
  ]
}