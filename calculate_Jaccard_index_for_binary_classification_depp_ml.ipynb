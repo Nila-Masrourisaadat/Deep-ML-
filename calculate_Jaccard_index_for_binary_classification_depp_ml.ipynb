{
  "nbformat": 4,
  "nbformat_minor": 0,
  "metadata": {
    "colab": {
      "provenance": []
    },
    "kernelspec": {
      "name": "python3",
      "display_name": "Python 3"
    },
    "language_info": {
      "name": "python"
    }
  },
  "cells": [
    {
      "cell_type": "markdown",
      "source": [
        "implement jaccard index that calculates the jaccard index, a measure of similarity between two binary sets. The Jaccard index is a widely used in binary classification tasks to evaluate the overlap between predicted and true labels. and is defined as (number of elemnets in the intersection of ytrue and ypred/number of elements in the union of ytrue and ypred) where ypred and ytrue are binary arrays of the same length, representing true and predicted labels. The result ranges from 0 (no overlap) to 1 (perfect overlap)"
      ],
      "metadata": {
        "id": "d0DWQKONjj-n"
      }
    },
    {
      "cell_type": "code",
      "source": [
        "import numpy as np\n",
        "def jaccard_index(y_true,y_pred):\n",
        "  jaccard=np.sum((y_true==1)&(y_pred==1))/np.sum((y_true==1)|(y_pred==1))\n",
        "  return np.round(jaccard,4)"
      ],
      "metadata": {
        "id": "nrVSc385ksZf"
      },
      "execution_count": null,
      "outputs": []
    },
    {
      "cell_type": "code",
      "execution_count": null,
      "metadata": {
        "colab": {
          "base_uri": "https://localhost:8080/"
        },
        "id": "svHLOAoEhp12",
        "outputId": "e5255b20-3bf2-40f9-aeee-44c3afb52cab"
      },
      "outputs": [
        {
          "output_type": "stream",
          "name": "stdout",
          "text": [
            "0.75\n"
          ]
        }
      ],
      "source": [
        "y_true=np.array([1,0,1,1,0,1])\n",
        "y_pred=np.array([1,0,1,0,0,1])\n",
        "print(jaccard_index(y_true,y_pred))"
      ]
    },
    {
      "cell_type": "code",
      "source": [],
      "metadata": {
        "id": "uoTsIirWt77t"
      },
      "execution_count": null,
      "outputs": []
    }
  ]
}