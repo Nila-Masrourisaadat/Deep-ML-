{
  "nbformat": 4,
  "nbformat_minor": 0,
  "metadata": {
    "colab": {
      "provenance": []
    },
    "kernelspec": {
      "name": "python3",
      "display_name": "Python 3"
    },
    "language_info": {
      "name": "python"
    }
  },
  "cells": [
    {
      "cell_type": "markdown",
      "source": [
        "implement cosine similarity that calculates the cosine similarity between two vectors. cosine similarity measures the cosine of the angle between two vectors, indicating their directional similarity.\n",
        "first ensure the input vectors have the same dimension and habdle edge cases like zero vecotrs\n",
        "then compute the dot products\n",
        "then copute L2 norms (magnitudes) of each vector\n",
        "for cosine similarity divide the dot product by the product of the magnitudes"
      ],
      "metadata": {
        "id": "X7b9ZJXTu9bN"
      }
    },
    {
      "cell_type": "code",
      "execution_count": null,
      "metadata": {
        "id": "28yMp_P8ushO"
      },
      "outputs": [],
      "source": [
        "import numpy as np\n",
        "def cosine_similarity(v1,v2):\n",
        "  if v1.shape != v2.shape:\n",
        "        raise ValueError(\"Vectors v1 and v2 must have the same shape.\")\n",
        "  #in case of 2 D dimension\n",
        "  v1=v1.flatten()\n",
        "  v2=v2.flatten()\n",
        "  dot_product=np.dot(v1,v2)\n",
        "  v1_mag=np.sqrt(np.sum(v1**2))\n",
        "  v2_mag=np.sqrt(np.sum(v2**2))\n",
        "  cos_sim=dot_product/(v1_mag*v2_mag)\n",
        "  return np.round(cos_sim,3)"
      ]
    },
    {
      "cell_type": "code",
      "source": [
        "v1=np.array([1,2,3])\n",
        "v2=np.array([2,4,6])\n",
        "print(cosine_similarity(v1,v2))"
      ],
      "metadata": {
        "colab": {
          "base_uri": "https://localhost:8080/"
        },
        "id": "sg83wNfRvN6m",
        "outputId": "0f52e801-183c-4488-ebff-1e3369322513"
      },
      "execution_count": null,
      "outputs": [
        {
          "output_type": "stream",
          "name": "stdout",
          "text": [
            "1.0\n"
          ]
        }
      ]
    },
    {
      "cell_type": "code",
      "source": [],
      "metadata": {
        "id": "-20uNkdpw5DG"
      },
      "execution_count": null,
      "outputs": []
    }
  ]
}