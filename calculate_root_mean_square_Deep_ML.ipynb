{
  "nbformat": 4,
  "nbformat_minor": 0,
  "metadata": {
    "colab": {
      "provenance": []
    },
    "kernelspec": {
      "name": "python3",
      "display_name": "Python 3"
    },
    "language_info": {
      "name": "python"
    }
  },
  "cells": [
    {
      "cell_type": "markdown",
      "source": [
        "implement a function rmse(y_true, y_pred) that caculates the root mean square error between the actual values and the predicted values. RMSE is a commonly used metric for evaluating the accuracy of regresson models, providing insight into the standard deviation of residuals.\n",
        "ensure the function handles edge cases such as mismatched array sahpes. empty arrays and invalid input types.\n"
      ],
      "metadata": {
        "id": "AuIO8qIDya_R"
      }
    },
    {
      "cell_type": "code",
      "execution_count": null,
      "metadata": {
        "id": "voVJcPTNyLX4"
      },
      "outputs": [],
      "source": [
        "import numpy as np\n",
        "def rmse(y_true,y_pred):\n",
        "  if y_true.size==0 or y_pred.size==0:\n",
        "    raise ValueError(\"arrays should be non empty\")\n",
        "  if len(y_pred)!=len(y_true):\n",
        "    raise ValueError(\"arrays should be of same size\")\n",
        "  rmse_res=np.sqrt(np.mean((y_pred-y_true)**2))\n",
        "  return np.round(rmse_res,3)"
      ]
    },
    {
      "cell_type": "code",
      "source": [
        "y_true=np.array([3,-0.5,2,7])\n",
        "y_pred=np.array([2.5,0.0,2,8])\n",
        "print(rmse(y_true,y_pred))"
      ],
      "metadata": {
        "colab": {
          "base_uri": "https://localhost:8080/"
        },
        "id": "Htfunv3KxE91",
        "outputId": "3bc985bb-9723-4334-fb3d-3c84de2863b8"
      },
      "execution_count": null,
      "outputs": [
        {
          "output_type": "stream",
          "name": "stdout",
          "text": [
            "0.612\n"
          ]
        }
      ]
    },
    {
      "cell_type": "code",
      "source": [],
      "metadata": {
        "id": "goz1aFJQyZ16"
      },
      "execution_count": null,
      "outputs": []
    }
  ]
}