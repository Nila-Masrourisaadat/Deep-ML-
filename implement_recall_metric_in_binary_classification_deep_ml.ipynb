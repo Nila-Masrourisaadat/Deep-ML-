{
  "nbformat": 4,
  "nbformat_minor": 0,
  "metadata": {
    "colab": {
      "provenance": []
    },
    "kernelspec": {
      "name": "python3",
      "display_name": "Python 3"
    },
    "language_info": {
      "name": "python"
    }
  },
  "cells": [
    {
      "cell_type": "markdown",
      "source": [
        "your task is to implement the recall metric in a binary classification setting. recall is a perfomrance measure that evaluates how effectively a machine learning model identifies positive instances from all the actual positive cases in a dataset."
      ],
      "metadata": {
        "id": "fbbfn-f7Aj6b"
      }
    },
    {
      "cell_type": "code",
      "execution_count": null,
      "metadata": {
        "id": "L2K6LzTKtrt4"
      },
      "outputs": [],
      "source": [
        "import numpy as np\n",
        "def recall(y_true,y_pred):\n",
        "  TP=np.sum((y_true==1) & (y_pred==1))\n",
        "  FN=np.sum((y_true==1) & (y_pred==0))\n",
        "  return np.round(TP/(TP+FN),3)"
      ]
    },
    {
      "cell_type": "code",
      "source": [
        "y_true=np.array([1,0,1,1,0,1])\n",
        "y_pred=np.array([1,0,1,0,0,1])\n",
        "print(recall(y_true,y_pred))"
      ],
      "metadata": {
        "colab": {
          "base_uri": "https://localhost:8080/"
        },
        "id": "2osOLvc_C0-K",
        "outputId": "97bc2d7b-8253-4815-9ed3-88af24cff750"
      },
      "execution_count": null,
      "outputs": [
        {
          "output_type": "stream",
          "name": "stdout",
          "text": [
            "0.75\n"
          ]
        }
      ]
    },
    {
      "cell_type": "code",
      "source": [],
      "metadata": {
        "id": "6pFFOifqEobv"
      },
      "execution_count": null,
      "outputs": []
    }
  ]
}